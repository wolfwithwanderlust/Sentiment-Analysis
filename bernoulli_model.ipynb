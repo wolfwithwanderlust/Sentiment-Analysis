{
 "cells": [
  {
   "cell_type": "code",
   "execution_count": 1,
   "metadata": {},
   "outputs": [],
   "source": [
    "import pandas as pd\n",
    "import joblib\n",
    "import os\n",
    "from sklearn.feature_extraction.text import TfidfVectorizer\n",
    "from sklearn.naive_bayes import BernoulliNB\n",
    "from sklearn.model_selection import train_test_split, GridSearchCV, cross_val_score\n",
    "from sklearn.pipeline import Pipeline\n",
    "from sklearn.metrics import roc_curve, roc_auc_score, precision_recall_curve, auc, confusion_matrix, classification_report\n",
    "from imblearn.over_sampling import SMOTE\n",
    "import seaborn as sns\n",
    "import matplotlib.pyplot as plt"
   ]
  },
  {
   "cell_type": "code",
   "execution_count": 2,
   "metadata": {},
   "outputs": [],
   "source": [
    "def load_data(file_path):\n",
    "    df = pd.read_csv(file_path)\n",
    "    return df"
   ]
  },
  {
   "cell_type": "code",
   "execution_count": 3,
   "metadata": {},
   "outputs": [],
   "source": [
    "def split_data(df, text_column, target_column, test_size=0.2, random_state=42):\n",
    "    X = df[text_column]\n",
    "    y = df[target_column]\n",
    "    X_train, X_test, y_train, y_test = train_test_split(X, y, test_size=test_size, random_state=random_state)\n",
    "    return X_train, X_test, y_train, y_test"
   ]
  },
  {
   "cell_type": "code",
   "execution_count": 4,
   "metadata": {},
   "outputs": [],
   "source": [
    "def train_with_grid_search(df, text_column, target_column):\n",
    "    \"\"\"Entraîne un modèle avec GridSearchCV et renvoie le meilleur modèle.\"\"\"\n",
    "    X = df[text_column]\n",
    "    y = df[target_column]\n",
    "\n",
    "    # Séparer les données en ensemble d'entraînement et de test\n",
    "    X_train, X_test, y_train, y_test = train_test_split(X, y, test_size=0.2, random_state=42)\n",
    "\n",
    "    # Définir un pipeline avec TfidfVectorizer et BernoulliNB\n",
    "    pipeline = Pipeline([\n",
    "        ('vectorizer', TfidfVectorizer()),  # Vectorisation avec TfidfVectorizer\n",
    "        ('classifier', BernoulliNB())       # Classificateur Bernoulli Naive Bayes\n",
    "    ])\n",
    "\n",
    "    # Grille d'hyperparamètres à tester\n",
    "    param_grid = {\n",
    "        'vectorizer__ngram_range': [(1, 1), (1, 2), (1, 3)],  # Test des unigrammes, bigrammes, trigrammes\n",
    "        'vectorizer__max_df': [0.5, 0.6, 0.7, 0.8, 0.9, 1.0],               # Filtrage par fréquence maximale\n",
    "        'vectorizer__min_df': [1, 5, 10, 15, 20],                     # Filtrage par fréquence minimale\n",
    "        'vectorizer__max_features': [None, 500, 1000],         # Limite du nombre de mots\n",
    "        'classifier__alpha': [0.1, 1, 10]                     # Hyperparamètre alpha de BernoulliNB\n",
    "    }\n",
    "\n",
    "    # Configuration de GridSearchCV pour tester les différentes combinaisons de paramètres\n",
    "    grid_search = GridSearchCV(pipeline, param_grid, cv=5, verbose=1, n_jobs=-1)\n",
    "\n",
    "    # Entraîner le modèle\n",
    "    grid_search.fit(X_train, y_train)\n",
    "\n",
    "    return grid_search, X_test, y_test"
   ]
  },
  {
   "cell_type": "code",
   "execution_count": 5,
   "metadata": {},
   "outputs": [],
   "source": [
    "def save_model(model, model_path='model/bernoulli_model.joblib'):\n",
    "    \"\"\"Sauvegarde le modèle.\"\"\"\n",
    "    os.makedirs(os.path.dirname(model_path), exist_ok=True)\n",
    "    joblib.dump(model, model_path)\n",
    "    print(f'Modèle sauvegardé sous : {model_path}')"
   ]
  },
  {
   "cell_type": "code",
   "execution_count": 6,
   "metadata": {},
   "outputs": [],
   "source": [
    "def plot_confusion_matrix(y_test, y_pred):\n",
    "    cm = confusion_matrix(y_test, y_pred, labels=[\"Négatif\", \"Positif\"])\n",
    "    plt.figure(figsize=(8,6))\n",
    "    sns.heatmap(cm, annot=True, fmt='d', cmap='Reds', xticklabels=[\"Négatif\", \"Positif\"], yticklabels=[\"Négatif\", \"Positif\"])\n",
    "    plt.xlabel('Prédictions')\n",
    "    plt.ylabel('Réel')\n",
    "    plt.title('Matrice de Confusion')\n",
    "    plt.show()"
   ]
  },
  {
   "cell_type": "code",
   "execution_count": 7,
   "metadata": {},
   "outputs": [],
   "source": [
    "def load_model(model_path='model/bernoulli_model.joblib'):\n",
    "    \"\"\"Charge le modèle sauvegardé.\"\"\"\n",
    "    model = joblib.load(model_path)\n",
    "    return model"
   ]
  },
  {
   "cell_type": "code",
   "execution_count": 8,
   "metadata": {},
   "outputs": [],
   "source": [
    "def evaluate_model(model, X_test, y_test):\n",
    "    \"\"\"Évalue le modèle et affiche les courbes ROC et précision-rappel ainsi que la matrice de confusion.\"\"\"\n",
    "    y_pred = model.predict(X_test)\n",
    "\n",
    "    # Mapper les étiquettes pour avoir uniquement 'Positif' ou 'Négatif'\n",
    "    y_test_mapped = map_labels(y_test)\n",
    "    y_pred_mapped = map_labels(y_pred)\n",
    "\n",
    "    print(classification_report(y_test_mapped, y_pred_mapped, target_names=[\"Négatif\", \"Positif\"]))\n",
    "\n",
    "    # Tracer la matrice de confusion\n",
    "    plot_confusion_matrix(y_test_mapped, y_pred_mapped)\n",
    "\n",
    "    return y_pred_mapped, y_test_mapped\n"
   ]
  },
  {
   "cell_type": "code",
   "execution_count": 9,
   "metadata": {},
   "outputs": [],
   "source": [
    "def cross_validate_model(model, X_train, y_train):\n",
    "    \"\"\"Effectue la validation croisée sur les données d'entraînement.\"\"\"\n",
    "    scores = cross_val_score(model, X_train, y_train, cv=5, scoring='accuracy')\n",
    "    print(f'Cross-validation scores: {scores}')\n",
    "    print(f'Average cross-validation score: {scores.mean()}')"
   ]
  },
  {
   "cell_type": "code",
   "execution_count": 10,
   "metadata": {},
   "outputs": [],
   "source": [
    "def convert_prediction_to_sentiment(pred):\n",
    "    if pred in [0, 1]:\n",
    "        return \"Négatif\"\n",
    "    elif pred in [3, 4]:\n",
    "        return \"Positif\"\n",
    "    else:\n",
    "        return \"Inconnu\"  # Ajouter une gestion des valeurs inattendues"
   ]
  },
  {
   "cell_type": "code",
   "execution_count": 11,
   "metadata": {},
   "outputs": [],
   "source": [
    "def map_labels(labels):\n",
    "    return ['Négatif' if label in [0, 1] else 'Positif' for label in labels]"
   ]
  },
  {
   "cell_type": "code",
   "execution_count": 12,
   "metadata": {},
   "outputs": [],
   "source": [
    "def predict_new_text(model, text):\n",
    "    # Si le modèle est un pipeline, il gère déjà la vectorisation\n",
    "    # Vous pouvez directement passer le texte brut\n",
    "    prediction = model.predict([text])\n",
    "\n",
    "    # Extraire la prédiction comme un entier\n",
    "    #prediction = int(prediction[0])\n",
    "\n",
    "    # Utiliser la fonction de mapping déjà définie\n",
    "    sentiment = convert_prediction_to_sentiment(prediction)\n",
    "\n",
    "    return prediction, sentiment\n"
   ]
  },
  {
   "cell_type": "code",
   "execution_count": 13,
   "metadata": {},
   "outputs": [],
   "source": [
    "def main(file_path, new_text=None):\n",
    "    \"\"\"Pipeline principal.\"\"\"\n",
    "    # 1. Charger les données\n",
    "    df = load_data(file_path)\n",
    "\n",
    "    # 2. Entraîner le modèle\n",
    "    model, X_test, y_test = train_with_grid_search(df, 'lemmatized_tokens', 'Sentiment')\n",
    "\n",
    "    # Validation croisée sur l'ensemble d'entraînement\n",
    "    print(\"Starting cross-validation...\")\n",
    "    X_train, _, y_train, _ = split_data(df, 'lemmatized_tokens', 'Sentiment')\n",
    "    cross_validate_model(model.best_estimator_, X_train, y_train)\n",
    "\n",
    "    # Sauvegarder le modèle\n",
    "    save_model(model.best_estimator_)\n",
    "\n",
    "    # 3. Évaluer le modèle\n",
    "    y_pred, y_test_mapped = evaluate_model(model, X_test, y_test)\n",
    "\n",
    "    # 4. Prédiction pour un nouveau texte si fourni\n",
    "    if new_text:\n",
    "        prediction, sentiment = predict_new_text(model.best_estimator_, new_text)\n",
    "        print(f\"Prédiction pour : '{new_text}' : {sentiment}\")"
   ]
  },
  {
   "cell_type": "code",
   "execution_count": 14,
   "metadata": {},
   "outputs": [
    {
     "name": "stdout",
     "output_type": "stream",
     "text": [
      "Fitting 5 folds for each of 810 candidates, totalling 4050 fits\n",
      "Starting cross-validation...\n",
      "Cross-validation scores: [0.46089385 0.47579143 0.44227188 0.45810056 0.46318733]\n",
      "Average cross-validation score: 0.4600490106750943\n",
      "Modèle sauvegardé sous : model/bernoulli_model.joblib\n",
      "              precision    recall  f1-score   support\n",
      "\n",
      "     Négatif       0.72      0.73      0.73       624\n",
      "     Positif       0.76      0.76      0.76       719\n",
      "\n",
      "    accuracy                           0.74      1343\n",
      "   macro avg       0.74      0.74      0.74      1343\n",
      "weighted avg       0.74      0.74      0.74      1343\n",
      "\n"
     ]
    },
    {
     "data": {
      "image/png": "[encoded data removed]",
      "text/plain": [
       "<Figure size 800x600 with 2 Axes>"
      ]
     },
     "metadata": {},
     "output_type": "display_data"
    },
    {
     "name": "stdout",
     "output_type": "stream",
     "text": [
      "Prédiction pour : 'The film was painfully slow and predictable, with no engaging moments to keep the audience interested.' : Négatif\n"
     ]
    }
   ],
   "source": [
    "# Appelle la fonction principale avec le chemin vers ton fichier CSV et un texte à prédire\n",
    "file_path = 'df_clean_filtered.csv'\n",
    "new_text = \"The film was painfully slow and predictable, with no engaging moments to keep the audience interested.\"\n",
    "main(file_path, new_text=new_text)\n"
   ]
  },
  {
   "cell_type": "code",
   "execution_count": 15,
   "metadata": {},
   "outputs": [
    {
     "name": "stdout",
     "output_type": "stream",
     "text": [
      "Fitting 5 folds for each of 810 candidates, totalling 4050 fits\n"
     ]
    },
    {
     "name": "stderr",
     "output_type": "stream",
     "text": [
      "/home/louve/.pyenv/versions/sentiment_analysis/lib/python3.10/site-packages/numpy/ma/core.py:2820: RuntimeWarning: invalid value encountered in cast\n",
      "  _data = np.array(data, dtype=dtype, copy=copy,\n"
     ]
    },
    {
     "name": "stdout",
     "output_type": "stream",
     "text": [
      "Starting cross-validation...\n",
      "Cross-validation scores: [0.46089385 0.47579143 0.44227188 0.45810056 0.46318733]\n",
      "Average cross-validation score: 0.4600490106750943\n",
      "Modèle sauvegardé sous : model/bernoulli_model.joblib\n",
      "              precision    recall  f1-score   support\n",
      "\n",
      "     Négatif       0.72      0.73      0.73       624\n",
      "     Positif       0.76      0.76      0.76       719\n",
      "\n",
      "    accuracy                           0.74      1343\n",
      "   macro avg       0.74      0.74      0.74      1343\n",
      "weighted avg       0.74      0.74      0.74      1343\n",
      "\n"
     ]
    },
    {
     "data": {
      "image/png": "[encoded data removed]",
      "text/plain": [
       "<Figure size 800x600 with 2 Axes>"
      ]
     },
     "metadata": {},
     "output_type": "display_data"
    },
    {
     "name": "stdout",
     "output_type": "stream",
     "text": [
      "Prédiction pour : 'The movie was absolutely brilliant, with a captivating story, stunning visuals, and outstanding performances from the entire cast!' : Positif\n"
     ]
    }
   ],
   "source": [
    "# Appelle la fonction principale avec le chemin vers ton fichier CSV et un texte à prédire\n",
    "file_path = 'df_clean_filtered.csv'\n",
    "new_text = \"The movie was absolutely brilliant, with a captivating story, stunning visuals, and outstanding performances from the entire cast!\"\n",
    "main(file_path, new_text=new_text)"
   ]
  }
 ],
 "metadata": {
  "kernelspec": {
   "display_name": "Python 3",
   "language": "python",
   "name": "python3"
  },
  "language_info": {
   "codemirror_mode": {
    "name": "ipython",
    "version": 3
   },
   "file_extension": ".py",
   "mimetype": "text/x-python",
   "name": "python",
   "nbconvert_exporter": "python",
   "pygments_lexer": "ipython3",
   "version": "3.10.6"
  }
 },
 "nbformat": 4,
 "nbformat_minor": 2
}
